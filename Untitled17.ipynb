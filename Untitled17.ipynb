{
  "nbformat": 4,
  "nbformat_minor": 0,
  "metadata": {
    "colab": {
      "name": "Untitled17.ipynb",
      "provenance": []
    },
    "kernelspec": {
      "name": "python3",
      "display_name": "Python 3"
    },
    "language_info": {
      "name": "python"
    },
    "accelerator": "GPU"
  },
  "cells": [
    {
      "cell_type": "code",
      "metadata": {
        "id": "n-fAZXpQuPDP"
      },
      "source": [
        "import tensorflow as tf\n",
        "from tensorflow import keras\n",
        "import matplotlib.pyplot as plt\n",
        "\n",
        "(xtrain,ytrain),(xtest,ytest) = tf.keras.datasets.mnist.load_data()\n",
        "xtrain = xtrain/255.0\n",
        "xtest = xtest/255.0\n",
        "\n",
        "encoder_input = keras.Input(shape=(28, 28, 1), name='img')\n",
        "x = keras.layers.Flatten()(encoder_input)\n",
        "encoder_output = keras.layers.Dense(64, activation=\"elu\")(x)\n",
        "encoder = keras.Model(encoder_input, encoder_output, name='encoder')\n",
        "\n",
        "decoder_input = keras.layers.Dense(64, activation=\"elu\")(encoder_output)\n",
        "y = keras.layers.Dense(784, activation=\"elu\")(decoder_input)\n",
        "decoder_output = keras.layers.Reshape((28, 28, 1))(x)\n",
        "\n",
        "opt = tf.keras.optimizers.Adam()\n",
        "\n",
        "autoencoder = keras.Model(encoder_input, decoder_output, name='autoencoder')\n",
        "autoencoder.compile(opt, loss=tf.keras.losses.mean_squared_error,metrics=[\"accuracy\"])"
      ],
      "execution_count": 12,
      "outputs": []
    },
    {
      "cell_type": "code",
      "metadata": {
        "colab": {
          "base_uri": "https://localhost:8080/"
        },
        "id": "pnMAqj9J4L4A",
        "outputId": "46ceed3f-41d8-4657-b4da-f25724f2015d"
      },
      "source": [
        "autoencoder.fit(xtrain,xtrain,epochs=10,validation_split=0.2)"
      ],
      "execution_count": 13,
      "outputs": [
        {
          "output_type": "stream",
          "text": [
            "Epoch 1/10\n",
            "1500/1500 [==============================] - 3s 2ms/step - loss: 0.0000e+00 - accuracy: 0.8154 - val_loss: 0.0000e+00 - val_accuracy: 0.8162\n",
            "Epoch 2/10\n",
            "1500/1500 [==============================] - 2s 1ms/step - loss: 0.0000e+00 - accuracy: 0.8158 - val_loss: 0.0000e+00 - val_accuracy: 0.8162\n",
            "Epoch 3/10\n",
            "1500/1500 [==============================] - 2s 2ms/step - loss: 0.0000e+00 - accuracy: 0.8151 - val_loss: 0.0000e+00 - val_accuracy: 0.8162\n",
            "Epoch 4/10\n",
            "1500/1500 [==============================] - 2s 2ms/step - loss: 0.0000e+00 - accuracy: 0.8156 - val_loss: 0.0000e+00 - val_accuracy: 0.8162\n",
            "Epoch 5/10\n",
            "1500/1500 [==============================] - 2s 2ms/step - loss: 0.0000e+00 - accuracy: 0.8152 - val_loss: 0.0000e+00 - val_accuracy: 0.8162\n",
            "Epoch 6/10\n",
            "1500/1500 [==============================] - 2s 2ms/step - loss: 0.0000e+00 - accuracy: 0.8152 - val_loss: 0.0000e+00 - val_accuracy: 0.8162\n",
            "Epoch 7/10\n",
            "1500/1500 [==============================] - 2s 2ms/step - loss: 0.0000e+00 - accuracy: 0.8151 - val_loss: 0.0000e+00 - val_accuracy: 0.8162\n",
            "Epoch 8/10\n",
            "1500/1500 [==============================] - 2s 2ms/step - loss: 0.0000e+00 - accuracy: 0.8152 - val_loss: 0.0000e+00 - val_accuracy: 0.8162\n",
            "Epoch 9/10\n",
            "1500/1500 [==============================] - 2s 1ms/step - loss: 0.0000e+00 - accuracy: 0.8154 - val_loss: 0.0000e+00 - val_accuracy: 0.8162\n",
            "Epoch 10/10\n",
            "1500/1500 [==============================] - 2s 2ms/step - loss: 0.0000e+00 - accuracy: 0.8153 - val_loss: 0.0000e+00 - val_accuracy: 0.8162\n"
          ],
          "name": "stdout"
        },
        {
          "output_type": "execute_result",
          "data": {
            "text/plain": [
              "<tensorflow.python.keras.callbacks.History at 0x7f0cda104150>"
            ]
          },
          "metadata": {
            "tags": []
          },
          "execution_count": 13
        }
      ]
    },
    {
      "cell_type": "code",
      "metadata": {
        "colab": {
          "base_uri": "https://localhost:8080/",
          "height": 282
        },
        "id": "yHM3NIiz8ZFb",
        "outputId": "9c654170-ec21-4d99-8638-3f9e414f6684"
      },
      "source": [
        "example = encoder.predict([ xtest[0].reshape(-1, 28, 28, 1) ])\n",
        "plt.imshow(example[0].reshape((8,8)), cmap=\"gray\")"
      ],
      "execution_count": 15,
      "outputs": [
        {
          "output_type": "execute_result",
          "data": {
            "text/plain": [
              "<matplotlib.image.AxesImage at 0x7f0cda1934d0>"
            ]
          },
          "metadata": {
            "tags": []
          },
          "execution_count": 15
        },
        {
          "output_type": "display_data",
          "data": {
            "image/png": "[encoded data removed]",
            "text/plain": [
              "<Figure size 432x288 with 1 Axes>"
            ]
          },
          "metadata": {
            "tags": [],
            "needs_background": "light"
          }
        }
      ]
    },
    {
      "cell_type": "code",
      "metadata": {
        "colab": {
          "base_uri": "https://localhost:8080/",
          "height": 282
        },
        "id": "FS3AXM4B-15e",
        "outputId": "0d7a1bd8-2719-44f5-d996-721aa2dcecd9"
      },
      "source": [
        "plt.imshow(xtest[0], cmap=\"gray\")"
      ],
      "execution_count": 16,
      "outputs": [
        {
          "output_type": "execute_result",
          "data": {
            "text/plain": [
              "<matplotlib.image.AxesImage at 0x7f0cca77a110>"
            ]
          },
          "metadata": {
            "tags": []
          },
          "execution_count": 16
        },
        {
          "output_type": "display_data",
          "data": {
            "image/png": "[encoded data removed]",
            "text/plain": [
              "<Figure size 432x288 with 1 Axes>"
            ]
          },
          "metadata": {
            "tags": [],
            "needs_background": "light"
          }
        }
      ]
    },
    {
      "cell_type": "code",
      "metadata": {
        "colab": {
          "base_uri": "https://localhost:8080/",
          "height": 282
        },
        "id": "ljj9OjuY_BsN",
        "outputId": "b5b7ea1a-8f32-433b-e186-7aa4f5ca5c09"
      },
      "source": [
        "autoencoder_output = autoencoder.predict([ xtest[0].reshape(-1, 28, 28,1) ])\n",
        "img = autoencoder_output[0]\n",
        "plt.imshow(img.reshape(28,28), cmap=\"gray\")"
      ],
      "execution_count": 17,
      "outputs": [
        {
          "output_type": "execute_result",
          "data": {
            "text/plain": [
              "<matplotlib.image.AxesImage at 0x7f0cca26cfd0>"
            ]
          },
          "metadata": {
            "tags": []
          },
          "execution_count": 17
        },
        {
          "output_type": "display_data",
          "data": {
            "image/png": "[encoded data removed]",
            "text/plain": [
              "<Figure size 432x288 with 1 Axes>"
            ]
          },
          "metadata": {
            "tags": [],
            "needs_background": "light"
          }
        }
      ]
    }
  ]
}